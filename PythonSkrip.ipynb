{
  "nbformat": 4,
  "nbformat_minor": 0,
  "metadata": {
    "colab": {
      "provenance": [],
      "authorship_tag": "ABX9TyOpxFaAxcLR0KtMNePJSG9x",
      "include_colab_link": true
    },
    "kernelspec": {
      "name": "python3",
      "display_name": "Python 3"
    },
    "language_info": {
      "name": "python"
    }
  },
  "cells": [
    {
      "cell_type": "markdown",
      "metadata": {
        "id": "view-in-github",
        "colab_type": "text"
      },
      "source": [
        "<a href=\"https://colab.research.google.com/github/Jerrydcw/Junior_Data_Analyst_Test/blob/main/PythonSkrip.ipynb\" target=\"_parent\"><img src=\"https://colab.research.google.com/assets/colab-badge.svg\" alt=\"Open In Colab\"/></a>"
      ]
    },
    {
      "cell_type": "code",
      "source": [
        "import requests\n",
        "from bs4 import BeautifulSoup\n",
        "\n",
        "def scrape_carsome(search_query):\n",
        "    # Membuat URL pencarian berdasarkan query\n",
        "    url = f\"https://www.carsome.id/search?search={search_query}\"\n",
        "\n",
        "    # Mengirimkan permintaan GET ke URL\n",
        "    response = requests.get(url)\n",
        "\n",
        "    # Memastikan permintaan berhasil\n",
        "    if response.status_code == 200:\n",
        "        # Membuat objek BeautifulSoup\n",
        "        soup = BeautifulSoup(response.text, 'html.parser')\n",
        "\n",
        "        # Mengambil elemen yang berisi data kendaraan\n",
        "        vehicles = soup.find_all('div', class_='ProductCardstyle__Detail-sc-17wtavt-6 dmvbKP')\n",
        "\n",
        "        # Inisialisasi daftar untuk menyimpan hasil\n",
        "        vehicle_data = []\n",
        "\n",
        "        # Looping melalui setiap elemen kendaraan\n",
        "        for vehicle in vehicles:\n",
        "            # Mengambil informasi kendaraan seperti merek, model, tahun, dll.\n",
        "            brand = vehicle.find('h3', class_='ProductCardstyle__Detail-sc-17wtavt-10 bBItbB').text.strip()\n",
        "            model = vehicle.find('div', class_='ProductCardstyle__Detail-sc-17wtavt-11 hJTGsT').text.strip()\n",
        "            year = vehicle.find('div', class_='ProductCardstyle__Detail-sc-17wtavt-12 kGhIFm').text.strip()\n",
        "            price = vehicle.find('p', class_='ProductCardstyle__Detail-sc-17wtavt-16 ebIBvG').text.strip()\n",
        "\n",
        "            # Menambahkan data kendaraan ke dalam list\n",
        "            vehicle_data.append({\n",
        "                'Brand': brand,\n",
        "                'Model': model,\n",
        "                'Year': year,\n",
        "                'Price': price\n",
        "            })\n",
        "\n",
        "        return vehicle_data\n",
        "    else:\n",
        "        print(\"Failed to retrieve data from Carsome\")\n",
        "        return None\n",
        "\n",
        "# Mencari Toyota SUV Tahun 2015 di Carsome\n",
        "search_query = \"Toyota SUV 2015\"\n",
        "vehicle_data = scrape_carsome(search_query)\n",
        "\n",
        "# Menampilkan data kendaraan\n",
        "if vehicle_data:\n",
        "    print(\"Data kendaraan dari Carsome:\")\n",
        "    for idx, vehicle in enumerate(vehicle_data, start=1):\n",
        "        print(f\"Kendaraan {idx}:\")\n",
        "        print(f\"Merek: {vehicle['Brand']}\")\n",
        "        print(f\"Model: {vehicle['Model']}\")\n",
        "        print(f\"Tahun: {vehicle['Year']}\")\n",
        "        print(f\"Harga: {vehicle['Price']}\")\n",
        "        print(\"--------------------\")\n",
        "else:\n",
        "    print(\"Tidak ada data kendaraan yang ditemukan.\")\n"
      ],
      "metadata": {
        "id": "DADe07xVwg_k"
      },
      "execution_count": null,
      "outputs": []
    }
  ]
}